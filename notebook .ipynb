{
 "cells": [
  {
   "cell_type": "markdown",
   "metadata": {},
   "source": [
    " Customer Churn Classification Project "
   ]
  },
  {
   "cell_type": "markdown",
   "metadata": {},
   "source": [
    "Overview:\n",
    "This project aims to analyze customer churn in a telecommunication company using classification models. We will explore and analyze the provided datasets to gain insights into factors influencing customer retention. The goal is to build machine learning models capable of predicting customer churn and offer valuable insights to the company for strategic decision-making.\n",
    "\n",
    "1.0 Business Understanding:\n",
    "\n",
    "   1.1 Objective:\n",
    "   The main objective is to identify and understand factors influencing customer churn in the telecommunication industry. We aim to build an effective classification model to predicting whether a customer will churn or not.  "
   ]
  },
  {
   "cell_type": "markdown",
   "metadata": {},
   "source": [
    "1.1 Explanation of features\n",
    "\n",
    "The following describes the columns present in the data.\n",
    "1.\tGender -- Whether the customer is a male or a female\n",
    "2.\tSeniorCitizen -- Whether a customer is a senior citizen or not\n",
    "3.\tPartner -- Whether the customer has a partner or not (Yes, No)\n",
    "4.\tDependents -- Whether the customer has dependents or not (Yes, No)\n",
    "5.\tTenure -- Number of months the customer has stayed with the company\n",
    "6.\tPhone Service -- Whether the customer has a phone service or not (Yes, No)\n",
    "7.\tMultipleLines -- Whether the customer has multiple lines or not\n",
    "8.\tInternetService -- Customer's internet service provider (DSL, Fiber Optic, No)\n",
    "9.\tOnlineSecurity -- Whether the customer has online security or not (Yes, No, No Internet)\n",
    "10.\tOnlineBackup -- Whether the customer has online backup or not (Yes, No, No Internet)\n",
    "11.\tDeviceProtection -- Whether the customer has device protection or not (Yes, No, No internet service)\n",
    "12.\tTechSupport -- Whether the customer has tech support or not (Yes, No, No internet)\n",
    "13.\tStreamingTV -- Whether the customer has streaming TV or not (Yes, No, No internet service)\n",
    "14.\tStreamingMovies -- Whether the customer has streaming movies or not (Yes, No, No Internet service)\n",
    "15.\tContract -- The contract term of the customer (Month-to-Month, One year, Two year)\n",
    "16.\tPaperlessBilling -- Whether the customer has paperless billing or not (Yes, No)\n",
    "17.\tPayment Method -- The customer's payment method (Electronic check, mailed check, Bank transfer(automatic), Credit card(automatic))\n",
    "18.\tMonthlyCharges -- The amount charged to the customer monthly\n",
    "19.\tTotalCharges -- The total amount charged to the customer\n",
    "20.\tChurn -- Whether the customer churned or not (Yes or No)"
   ]
  },
  {
   "cell_type": "markdown",
   "metadata": {},
   "source": [
    "1.2 Hypothesis (Null and Alternate):\n",
    "   - Null Hypothesis (H0): There is no significant relationship between the Total Charges and customer churn.\n",
    "   - Alternate Hypothesis (H1): There is a significant relationship between the Total Charges and customer churn.\n",
    "   Ho : There seems to be no relationship between gender and whether the person is a senior citizen and the churn rate\n",
    "   H1: There is a relationship between age and senior citizen and churn rate\n",
    "\n",
    "1.3 Research/Analytical Questions:\n",
    "  \n",
    "   - How do different services (PhoneService, MultipleLines, InternetService, OnlineSecurity, OnlineBackup, etc.) contribute to customer churn?\n",
    "   - Is there any correlation between gender, age (SeniorCitizen), having a partner, having dependents, and customer churn?\n",
    "   - How does the contract type (Contract) and billing preferences (PaperlessBilling, PaymentMethod) influence customer churn?\n",
    "   - Is there a correlation between monthly charges (MonthlyCharges), total charges (TotalCharges), and customer churn?\n",
    "   - What insights can be gained from the analysis to improve customer retention?\n",
    "   - Is there a relationship between gender and the churn rate\n",
    "   - How does internet service affect churn rate?\n",
    "   - Are senior citizens more likely to churn"
   ]
  },
  {
   "cell_type": "markdown",
   "metadata": {},
   "source": [
    "\n",
    "2.0 Data Understanding:\n",
    " \n",
    "2.1 Importation:\n",
    "   Import necessary libraries and modules for data analysis and machine learning."
   ]
  },
  {
   "cell_type": "code",
   "execution_count": 1,
   "metadata": {},
   "outputs": [],
   "source": [
    "# Data manipulation packages\n",
    "import pandas as pd\n",
    "import numpy as np\n",
    "\n",
    "#Data Visualization packages\n",
    "import matplotlib.pyplot as plt\n",
    "import seaborn as sns\n",
    "import os\n",
    "\n",
    "# Machine learning Packages\n",
    "from sklearn.pipeline import Pipeline\n",
    "from sklearn.compose import ColumnTransformer\n",
    "from sklearn.impute import SimpleImputer\n",
    "from sklearn.preprocessing import StandardScaler,MinMaxScaler,RobustScaler\n",
    "from sklearn.preprocessing import OneHotEncoder , LabelEncoder , OrdinalEncoder\n",
    "from sklearn.preprocessing import FunctionTransformer\n",
    "from sklearn.tree import DecisionTreeClassifier\n",
    "from sklearn.metrics import accuracy_score, classification_report\n",
    "from sklearn.model_selection import train_test_split\n",
    "from sklearn import set_config\n",
    "from sklearn.ensemble import RandomForestClassifier\n",
    "from sklearn.svm import SVC\n",
    "from sklearn.naive_bayes import GaussianNB\n",
    "from sklearn.ensemble import GradientBoostingClassifier\n",
    "from scipy.stats import pearsonr,stats as stats\n",
    "from sklearn.model_selection import cross_val_score\n",
    "from imblearn.under_sampling import RandomUnderSampler\n",
    "from imblearn.over_sampling import RandomOverSampler,SMOTE\n",
    "from sklearn.feature_selection import SelectKBest,mutual_info_classif\n",
    "from imblearn.over_sampling import SMOTE\n",
    "from sklearn.datasets import make_classification\n",
    "from sklearn.metrics import confusion_matrix\n",
    "from sklearn.metrics import roc_auc_score,roc_curve,auc\n",
    "from sklearn.model_selection import GridSearchCV\n",
    "from imblearn.pipeline import Pipeline as imbpipeline\n",
    "\n",
    "\n",
    "# Database connection package\n",
    "import pyodbc\n",
    "\n",
    "# Ignore warnings (optional)\n",
    "import warnings\n",
    "warnings.filterwarnings(\"ignore\")\n"
   ]
  },
  {
   "cell_type": "code",
   "execution_count": 1,
   "metadata": {},
   "outputs": [
    {
     "ename": "NameError",
     "evalue": "name 'dotenv_values' is not defined",
     "output_type": "error",
     "traceback": [
      "\u001b[1;31m---------------------------------------------------------------------------\u001b[0m",
      "\u001b[1;31mNameError\u001b[0m                                 Traceback (most recent call last)",
      "Cell \u001b[1;32mIn[1], line 2\u001b[0m\n\u001b[0;32m      1\u001b[0m \u001b[38;5;66;03m# Loading environment variables from .env file into a dictionary\u001b[39;00m\n\u001b[1;32m----> 2\u001b[0m environment_variables \u001b[38;5;241m=\u001b[39m \u001b[43mdotenv_values\u001b[49m(\u001b[38;5;124m'\u001b[39m\u001b[38;5;124m.env\u001b[39m\u001b[38;5;124m'\u001b[39m)\n\u001b[0;32m      4\u001b[0m \u001b[38;5;66;03m# Getting the values for the credentials set in the '.env' file\u001b[39;00m\n\u001b[0;32m      5\u001b[0m server \u001b[38;5;241m=\u001b[39m environment_variables\u001b[38;5;241m.\u001b[39mget(\u001b[38;5;124m\"\u001b[39m\u001b[38;5;124mSERVER\u001b[39m\u001b[38;5;124m\"\u001b[39m)\n",
      "\u001b[1;31mNameError\u001b[0m: name 'dotenv_values' is not defined"
     ]
    }
   ],
   "source": [
    "# Loading environment variables from .env file into a dictionary\n",
    "environment_variables = dotenv_values('.env')\n",
    "\n",
    "# Getting the values for the credentials set in the '.env' file\n",
    "server = environment_variables.get(\"SERVER\")\n",
    "database = environment_variables.get(\"DATABASE\")\n",
    "username = environment_variables.get(\"USERNAME\")\n",
    "password = environment_variables.get(\"PASSWORD\")\n",
    "\n",
    "\n",
    "connection_string = f\"DRIVER={{SQL Server}};SERVER={server};DATABASE={database};UID={username};PWD={password}\"\n",
    "conn = pyodbc.connect(connection_string)"
   ]
  }
 ],
 "metadata": {
  "kernelspec": {
   "display_name": "Python 3",
   "language": "python",
   "name": "python3"
  },
  "language_info": {
   "codemirror_mode": {
    "name": "ipython",
    "version": 3
   },
   "file_extension": ".py",
   "mimetype": "text/x-python",
   "name": "python",
   "nbconvert_exporter": "python",
   "pygments_lexer": "ipython3",
   "version": "3.10.9"
  }
 },
 "nbformat": 4,
 "nbformat_minor": 2
}
